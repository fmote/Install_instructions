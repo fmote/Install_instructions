{
 "cells": [
  {
   "attachments": {},
   "cell_type": "markdown",
   "metadata": {},
   "source": [
    "# Simple low-pass FFT filter\n",
    "\n",
    "\n",
    "Import:\n",
    "1. `csv` to read the input data\n",
    "1. `numpy` to process the FFT\n",
    "1. `matplotlib` to plot the results\n"
   ]
  },
  {
   "cell_type": "code",
   "execution_count": 1,
   "metadata": {},
   "outputs": [],
   "source": [
    "import csv\n",
    "import numpy as np\n",
    "import matplotlib.pyplot as plt\n",
    "\n",
    "# Open the CSV file for reading\n",
    "with open('filename.csv', 'r') as csvfile:\n",
    "\n",
    "    # Create a CSV reader object\n",
    "    csvreader = csv.reader(csvfile)\n",
    "\n",
    "    # Skip the header row\n",
    "    next(csvreader)\n",
    "\n",
    "    # Extract values from column 2 into a list\n",
    "    col2_values = [float(row[1]) for row in csvreader]\n",
    "\n",
    "    # Perform FFT on the values\n",
    "    fft_values = np.fft.fft(col2_values)\n",
    "    freq = np.fft.fftfreq(len(col2_values))\n",
    "\n",
    "    # Apply low-pass filter\n",
    "    fft_values[freq > 0.01] = 0\n",
    "\n",
    "    # Inverse FFT to get filtered values\n",
    "    filtered_values = np.fft.ifft(fft_values)\n",
    "\n",
    "    # Plot the original and filtered signals\n",
    "    fig, axs = plt.subplots(2)\n",
    "    fig.suptitle('Low-pass FFT filter on column 2')\n",
    "\n",
    "    axs[0].plot(col2_values)\n",
    "    axs[0].set_title('Original signal')\n",
    "    axs[0].set_xlabel('Time')\n",
    "    axs[0].set_ylabel('Amplitude')\n",
    "\n",
    "    axs[1].plot(filtered_values.real)\n",
    "    axs[1].set_title('Filtered signal')\n",
    "    axs[1].set_xlabel('Time')\n",
    "    axs[1].set_ylabel('Amplitude')\n",
    "\n",
    "    plt.show()\n"
   ]
  }
 ],
 "metadata": {
  "kernelspec": {
   "display_name": "jupyter",
   "language": "python",
   "name": "python3"
  },
  "language_info": {
   "codemirror_mode": {
    "name": "ipython",
    "version": 3
   },
   "file_extension": ".py",
   "mimetype": "text/x-python",
   "name": "python",
   "nbconvert_exporter": "python",
   "pygments_lexer": "ipython3",
   "version": "3.10.6"
  },
  "orig_nbformat": 4
 },
 "nbformat": 4,
 "nbformat_minor": 2
}
